{
 "cells": [
  {
   "cell_type": "code",
   "execution_count": 1,
   "id": "19c34f95",
   "metadata": {},
   "outputs": [],
   "source": [
    "import math\n",
    "import torch\n",
    "import gpytorch\n",
    "from matplotlib import pyplot as plt\n",
    "\n",
    "%matplotlib inline\n",
    "%load_ext autoreload\n",
    "%autoreload 2"
   ]
  },
  {
   "cell_type": "code",
   "execution_count": 2,
   "id": "c46dab5d",
   "metadata": {},
   "outputs": [],
   "source": [
    "# Training data is 100 points in [0,1] inclusive regularly spaced\n",
    "train_x = torch.linspace(0, 1, 100)\n",
    "# True function is sin(2*pi*x) with Gaussian noise\n",
    "train_y = torch.sin(train_x * (2 * math.pi)) + torch.randn(train_x.size()) * math.sqrt(0.04)"
   ]
  },
  {
   "cell_type": "code",
   "execution_count": 3,
   "id": "449fb101",
   "metadata": {},
   "outputs": [
    {
     "name": "stdout",
     "output_type": "stream",
     "text": [
      "tensor([0.0000, 0.0101, 0.0202, 0.0303, 0.0404, 0.0505, 0.0606, 0.0707, 0.0808,\n",
      "        0.0909, 0.1010, 0.1111, 0.1212, 0.1313, 0.1414, 0.1515, 0.1616, 0.1717,\n",
      "        0.1818, 0.1919, 0.2020, 0.2121, 0.2222, 0.2323, 0.2424, 0.2525, 0.2626,\n",
      "        0.2727, 0.2828, 0.2929, 0.3030, 0.3131, 0.3232, 0.3333, 0.3434, 0.3535,\n",
      "        0.3636, 0.3737, 0.3838, 0.3939, 0.4040, 0.4141, 0.4242, 0.4343, 0.4444,\n",
      "        0.4545, 0.4646, 0.4747, 0.4848, 0.4949, 0.5051, 0.5152, 0.5253, 0.5354,\n",
      "        0.5455, 0.5556, 0.5657, 0.5758, 0.5859, 0.5960, 0.6061, 0.6162, 0.6263,\n",
      "        0.6364, 0.6465, 0.6566, 0.6667, 0.6768, 0.6869, 0.6970, 0.7071, 0.7172,\n",
      "        0.7273, 0.7374, 0.7475, 0.7576, 0.7677, 0.7778, 0.7879, 0.7980, 0.8081,\n",
      "        0.8182, 0.8283, 0.8384, 0.8485, 0.8586, 0.8687, 0.8788, 0.8889, 0.8990,\n",
      "        0.9091, 0.9192, 0.9293, 0.9394, 0.9495, 0.9596, 0.9697, 0.9798, 0.9899,\n",
      "        1.0000])\n"
     ]
    }
   ],
   "source": [
    "print(train_x)"
   ]
  },
  {
   "cell_type": "code",
   "execution_count": 4,
   "id": "e7ac85c9",
   "metadata": {},
   "outputs": [],
   "source": [
    "# We will use the simplest form of GP model, exact inference\n",
    "class ExactGPModel(gpytorch.models.ExactGP):\n",
    "    def __init__(self, train_x, train_y, likelihood):\n",
    "        super(ExactGPModel, self).__init__(train_x, train_y, likelihood)\n",
    "        self.mean_module = gpytorch.means.ConstantMean()\n",
    "        self.covar_module = gpytorch.kernels.ScaleKernel(gpytorch.kernels.RBFKernel())\n",
    "\n",
    "    def forward(self, x):\n",
    "        mean_x = self.mean_module(x)\n",
    "        covar_x = self.covar_module(x)\n",
    "        return gpytorch.distributions.MultivariateNormal(mean_x, covar_x)\n",
    "\n",
    "# initialize likelihood and model\n",
    "likelihood = gpytorch.likelihoods.GaussianLikelihood()\n",
    "model = ExactGPModel(train_x, train_y, likelihood)"
   ]
  },
  {
   "cell_type": "code",
   "execution_count": 5,
   "id": "1410917e",
   "metadata": {},
   "outputs": [
    {
     "name": "stdout",
     "output_type": "stream",
     "text": [
      "Iter 1/50 - Loss: 0.948   lengthscale: 0.693   noise: 0.693\n",
      "Iter 2/50 - Loss: 0.917   lengthscale: 0.644   noise: 0.644\n",
      "Iter 3/50 - Loss: 0.883   lengthscale: 0.598   noise: 0.598\n",
      "Iter 4/50 - Loss: 0.844   lengthscale: 0.555   noise: 0.554\n",
      "Iter 5/50 - Loss: 0.801   lengthscale: 0.514   noise: 0.513\n",
      "Iter 6/50 - Loss: 0.752   lengthscale: 0.475   noise: 0.474\n",
      "Iter 7/50 - Loss: 0.699   lengthscale: 0.439   noise: 0.437\n",
      "Iter 8/50 - Loss: 0.644   lengthscale: 0.405   noise: 0.402\n",
      "Iter 9/50 - Loss: 0.592   lengthscale: 0.372   noise: 0.369\n",
      "Iter 10/50 - Loss: 0.545   lengthscale: 0.342   noise: 0.339\n",
      "Iter 11/50 - Loss: 0.502   lengthscale: 0.315   noise: 0.310\n",
      "Iter 12/50 - Loss: 0.463   lengthscale: 0.291   noise: 0.284\n",
      "Iter 13/50 - Loss: 0.426   lengthscale: 0.271   noise: 0.259\n",
      "Iter 14/50 - Loss: 0.391   lengthscale: 0.254   noise: 0.236\n",
      "Iter 15/50 - Loss: 0.356   lengthscale: 0.241   noise: 0.215\n",
      "Iter 16/50 - Loss: 0.322   lengthscale: 0.230   noise: 0.196\n",
      "Iter 17/50 - Loss: 0.288   lengthscale: 0.221   noise: 0.178\n",
      "Iter 18/50 - Loss: 0.254   lengthscale: 0.215   noise: 0.162\n",
      "Iter 19/50 - Loss: 0.221   lengthscale: 0.211   noise: 0.147\n",
      "Iter 20/50 - Loss: 0.188   lengthscale: 0.208   noise: 0.134\n",
      "Iter 21/50 - Loss: 0.156   lengthscale: 0.208   noise: 0.121\n",
      "Iter 22/50 - Loss: 0.124   lengthscale: 0.208   noise: 0.110\n",
      "Iter 23/50 - Loss: 0.093   lengthscale: 0.210   noise: 0.100\n",
      "Iter 24/50 - Loss: 0.064   lengthscale: 0.213   noise: 0.091\n",
      "Iter 25/50 - Loss: 0.035   lengthscale: 0.218   noise: 0.083\n",
      "Iter 26/50 - Loss: 0.009   lengthscale: 0.223   noise: 0.075\n",
      "Iter 27/50 - Loss: -0.015   lengthscale: 0.229   noise: 0.068\n",
      "Iter 28/50 - Loss: -0.037   lengthscale: 0.236   noise: 0.063\n",
      "Iter 29/50 - Loss: -0.056   lengthscale: 0.244   noise: 0.057\n",
      "Iter 30/50 - Loss: -0.072   lengthscale: 0.252   noise: 0.052\n",
      "Iter 31/50 - Loss: -0.085   lengthscale: 0.261   noise: 0.048\n",
      "Iter 32/50 - Loss: -0.095   lengthscale: 0.269   noise: 0.044\n",
      "Iter 33/50 - Loss: -0.101   lengthscale: 0.277   noise: 0.041\n",
      "Iter 34/50 - Loss: -0.104   lengthscale: 0.285   noise: 0.038\n",
      "Iter 35/50 - Loss: -0.105   lengthscale: 0.291   noise: 0.036\n",
      "Iter 36/50 - Loss: -0.103   lengthscale: 0.296   noise: 0.034\n",
      "Iter 37/50 - Loss: -0.100   lengthscale: 0.300   noise: 0.032\n",
      "Iter 38/50 - Loss: -0.097   lengthscale: 0.301   noise: 0.030\n",
      "Iter 39/50 - Loss: -0.093   lengthscale: 0.301   noise: 0.029\n",
      "Iter 40/50 - Loss: -0.090   lengthscale: 0.299   noise: 0.028\n",
      "Iter 41/50 - Loss: -0.087   lengthscale: 0.296   noise: 0.028\n",
      "Iter 42/50 - Loss: -0.085   lengthscale: 0.292   noise: 0.027\n",
      "Iter 43/50 - Loss: -0.084   lengthscale: 0.286   noise: 0.027\n",
      "Iter 44/50 - Loss: -0.084   lengthscale: 0.281   noise: 0.027\n",
      "Iter 45/50 - Loss: -0.085   lengthscale: 0.275   noise: 0.027\n",
      "Iter 46/50 - Loss: -0.087   lengthscale: 0.269   noise: 0.027\n",
      "Iter 47/50 - Loss: -0.089   lengthscale: 0.264   noise: 0.027\n",
      "Iter 48/50 - Loss: -0.091   lengthscale: 0.260   noise: 0.028\n",
      "Iter 49/50 - Loss: -0.093   lengthscale: 0.256   noise: 0.028\n",
      "Iter 50/50 - Loss: -0.095   lengthscale: 0.253   noise: 0.029\n"
     ]
    }
   ],
   "source": [
    "# this is for running the notebook in our testing framework\n",
    "import os\n",
    "smoke_test = ('CI' in os.environ)\n",
    "training_iter = 2 if smoke_test else 50\n",
    "\n",
    "\n",
    "# Find optimal model hyperparameters\n",
    "model.train()\n",
    "likelihood.train()\n",
    "\n",
    "# Use the adam optimizer\n",
    "optimizer = torch.optim.Adam(model.parameters(), lr=0.1)  # Includes GaussianLikelihood parameters\n",
    "\n",
    "# \"Loss\" for GPs - the marginal log likelihood\n",
    "mll = gpytorch.mlls.ExactMarginalLogLikelihood(likelihood, model)\n",
    "\n",
    "for i in range(training_iter):\n",
    "    # Zero gradients from previous iteration\n",
    "    optimizer.zero_grad()\n",
    "    # Output from model\n",
    "    output = model(train_x)\n",
    "    # Calc loss and backprop gradients\n",
    "    loss = -mll(output, train_y)\n",
    "    loss.backward()\n",
    "    print('Iter %d/%d - Loss: %.3f   lengthscale: %.3f   noise: %.3f' % (\n",
    "        i + 1, training_iter, loss.item(),\n",
    "        model.covar_module.base_kernel.lengthscale.item(),\n",
    "        model.likelihood.noise.item()\n",
    "    ))\n",
    "    optimizer.step()"
   ]
  },
  {
   "cell_type": "code",
   "execution_count": 6,
   "id": "6216ccb8",
   "metadata": {},
   "outputs": [],
   "source": [
    "# Get into evaluation (predictive posterior) mode\n",
    "model.eval()\n",
    "likelihood.eval()\n",
    "\n",
    "# Test points are regularly spaced along [0,1]\n",
    "# Make predictions by feeding model through likelihood\n",
    "with torch.no_grad(), gpytorch.settings.fast_pred_var():\n",
    "    test_x = torch.linspace(0, 1, 51)\n",
    "    observed_pred = likelihood(model(test_x))"
   ]
  },
  {
   "cell_type": "code",
   "execution_count": 7,
   "id": "e6d9011a",
   "metadata": {},
   "outputs": [
    {
     "name": "stderr",
     "output_type": "stream",
     "text": [
      "C:\\Users\\rtsgr\\miniconda3\\envs\\raftask\\lib\\site-packages\\linear_operator\\utils\\cholesky.py:40: NumericalWarning: A not p.d., added jitter of 1.0e-06 to the diagonal\n",
      "  warnings.warn(\n",
      "C:\\Users\\rtsgr\\miniconda3\\envs\\raftask\\lib\\site-packages\\linear_operator\\utils\\cholesky.py:40: NumericalWarning: A not p.d., added jitter of 1.0e-05 to the diagonal\n",
      "  warnings.warn(\n"
     ]
    }
   ],
   "source": [
    "f_preds = model(test_x)\n",
    "y_preds = likelihood(model(test_x))\n",
    "\n",
    "f_mean = f_preds.mean\n",
    "f_var = f_preds.variance\n",
    "f_covar = f_preds.covariance_matrix\n",
    "f_samples = f_preds.sample(sample_shape=torch.Size([1000]))"
   ]
  },
  {
   "cell_type": "code",
   "execution_count": null,
   "id": "bd71aa60",
   "metadata": {},
   "outputs": [],
   "source": [
    "with torch.no_grad():\n",
    "    # Initialize plot\n",
    "    f, ax = plt.subplots(1, 1, figsize=(4, 3))\n",
    "\n",
    "    # Get upper and lower confidence bounds\n",
    "    lower, upper = observed_pred.confidence_region()\n",
    "    # Plot training data as black stars\n",
    "    ax.plot(train_x.numpy(), train_y.numpy(), 'k*')\n",
    "    # Plot predictive means as blue line\n",
    "    ax.plot(test_x.numpy(), observed_pred.mean.numpy(), 'b')\n",
    "    # Shade between the lower and upper confidence bounds\n",
    "    ax.fill_between(test_x.numpy(), lower.numpy(), upper.numpy(), alpha=0.5)\n",
    "    ax.set_ylim([-3, 3])\n",
    "    ax.legend(['Observed Data', 'Mean', 'Confidence'])"
   ]
  }
 ],
 "metadata": {
  "kernelspec": {
   "display_name": "raftask",
   "language": "python",
   "name": "raftask"
  },
  "language_info": {
   "codemirror_mode": {
    "name": "ipython",
    "version": 3
   },
   "file_extension": ".py",
   "mimetype": "text/x-python",
   "name": "python",
   "nbconvert_exporter": "python",
   "pygments_lexer": "ipython3",
   "version": "3.9.13"
  }
 },
 "nbformat": 4,
 "nbformat_minor": 5
}
